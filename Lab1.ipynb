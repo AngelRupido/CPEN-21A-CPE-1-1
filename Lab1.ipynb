{
  "nbformat": 4,
  "nbformat_minor": 0,
  "metadata": {
    "colab": {
      "name": "Laboratory1.ipynb",
      "provenance": [],
      "authorship_tag": "ABX9TyPYbofIxM/k1oNn6x9sxdUA",
      "include_colab_link": true
    },
    "kernelspec": {
      "name": "python3",
      "display_name": "Python 3"
    },
    "language_info": {
      "name": "python"
    }
  },
  "cells": [
    {
      "cell_type": "markdown",
      "metadata": {
        "id": "view-in-github",
        "colab_type": "text"
      },
      "source": [
        "<a href=\"https://colab.research.google.com/github/AngelRupido/CPEN-21A-CPE-1-1/blob/main/Lab1.ipynb\" target=\"_parent\"><img src=\"https://colab.research.google.com/assets/colab-badge.svg\" alt=\"Open In Colab\"/></a>"
      ]
    },
    {
      "cell_type": "code",
      "metadata": {
        "colab": {
          "base_uri": "https://localhost:8080/"
        },
        "id": "glAM7a3IYcai",
        "outputId": "6e8fa528-aa1c-4e5d-e7b5-e5b71ba33079"
      },
      "source": [
        "welcome_message=(\"Welcome to Python Programming. \")\n",
        "print(welcome_message )"
      ],
      "execution_count": 33,
      "outputs": [
        {
          "output_type": "stream",
          "name": "stdout",
          "text": [
            "Welcome to Python Programming. \n"
          ]
        }
      ]
    },
    {
      "cell_type": "code",
      "metadata": {
        "colab": {
          "base_uri": "https://localhost:8080/"
        },
        "id": "ciOPqW8KaDLO",
        "outputId": "4caaf07a-9985-4f24-8d2c-aac0a6885c60"
      },
      "source": [
        "name = input(\"What is your name? \")\n",
        "address = input(\"Where do you live? \")\n",
        "age = int(input(\"What is your age? \"))\n",
        "\n",
        "print(\"Hello, \", name, \"you are\", age, \"years old and,\")\n",
        "print(\"You live in \" + address + \". \")\n"
      ],
      "execution_count": 32,
      "outputs": [
        {
          "output_type": "stream",
          "name": "stdout",
          "text": [
            "What is your name? Angel\n",
            "Where do you live? Banaba Cerca, Indang Cavite\n",
            "What is your age? 18\n",
            "Hello,  Angel you are 18 years old and,\n",
            "You live in Banaba Cerca, Indang Cavite. \n"
          ]
        }
      ]
    }
  ]
}