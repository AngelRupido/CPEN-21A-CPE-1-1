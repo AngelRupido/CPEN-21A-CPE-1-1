{
  "nbformat": 4,
  "nbformat_minor": 0,
  "metadata": {
    "colab": {
      "name": "Final Exam.ipynb",
      "provenance": [],
      "collapsed_sections": [],
      "authorship_tag": "ABX9TyPHP5YB7jXSX5v5ysZaxsv0",
      "include_colab_link": true
    },
    "kernelspec": {
      "name": "python3",
      "display_name": "Python 3"
    },
    "language_info": {
      "name": "python"
    }
  },
  "cells": [
    {
      "cell_type": "markdown",
      "metadata": {
        "id": "view-in-github",
        "colab_type": "text"
      },
      "source": [
        "<a href=\"https://colab.research.google.com/github/AngelRupido/CPEN-21A-CPE-1-1/blob/main/Final_Exam.ipynb\" target=\"_parent\"><img src=\"https://colab.research.google.com/assets/colab-badge.svg\" alt=\"Open In Colab\"/></a>"
      ]
    },
    {
      "cell_type": "markdown",
      "source": [
        "##PROBLEM STATEMENT 1 ❤"
      ],
      "metadata": {
        "id": "YVgNolJMxTL7"
      }
    },
    {
      "cell_type": "code",
      "source": [
        "#Create a Python program that will produce an output of sum of 10 numbers less than 5 using FOR LOOP statement.\t(30 points)\n",
        "\n",
        "sum = 0\n",
        "num = range(-5,5)\n",
        "for x in (num):\n",
        "  if x < 5:\n",
        "      sum = sum + x\n",
        "print(\"The sum is\", sum) "
      ],
      "metadata": {
        "colab": {
          "base_uri": "https://localhost:8080/"
        },
        "id": "rKjkXRyXyHj4",
        "outputId": "7ff3de62-7e75-4c62-8a77-5904d2530d8a"
      },
      "execution_count": 90,
      "outputs": [
        {
          "output_type": "stream",
          "name": "stdout",
          "text": [
            "The sum is -5\n"
          ]
        }
      ]
    },
    {
      "cell_type": "markdown",
      "source": [
        "##PROBLEM STATEMENT 2 ❤"
      ],
      "metadata": {
        "id": "4iPAfYdxxtoY"
      }
    },
    {
      "cell_type": "code",
      "execution_count": 60,
      "metadata": {
        "colab": {
          "base_uri": "https://localhost:8080/"
        },
        "id": "VhX0awaEudoa",
        "outputId": "6e5f22f9-f98c-4fe4-b8b6-d4586103e078"
      },
      "outputs": [
        {
          "output_type": "stream",
          "name": "stdout",
          "text": [
            "enter the number 1: 2\n",
            "enter the number 2: 4\n",
            "enter the number 3: 6\n",
            "enter the number 4: 4\n",
            "enter the number 5: 5\n",
            "You entered the numbers: [2, 4, 6, 4, 5]\n",
            "The sum of first and last number is:  7\n"
          ]
        }
      ],
      "source": [
        "#Create a Python program that will produce accept five numbers and determine the sum of first and last number among the five numbers entered using WHILE LOOP    (35 points)\n",
        "\n",
        "count = 0 \n",
        "save_numbers = [] \n",
        "while count<5:\n",
        "              \n",
        " try:\n",
        "   num_input = int(input(f\"enter the number {count+1}: \"))\n",
        "   count+=1\n",
        "   save_numbers.append(num_input)\n",
        " except:\n",
        "  print(\"invalid input, enter a integer value\")\n",
        "  \n",
        "print(\"You entered the numbers:\",save_numbers)\n",
        "print(\"The sum of first and last number is: \", save_numbers[0] + save_numbers[-1])"
      ]
    },
    {
      "cell_type": "markdown",
      "source": [
        "##PROBLEM STATEMENT 3 ❤"
      ],
      "metadata": {
        "id": "oejxVzwgx4BF"
      }
    },
    {
      "cell_type": "code",
      "source": [
        "# Create a Python program to calculate student grades. \n",
        "# It accepts a numerical grade as input and it will display the character grade as output based on the given scale: (Use Nested-IF-Else statement)grade = float(input(\"Kindly enter your grade: \"))\n",
        "\n",
        "grade = float(input(\"Kindly enter your grade: \"))\n",
        "\n",
        "if grade >=90:\n",
        "    print(\"A\")\n",
        "else:\n",
        "    if grade >= 80:\n",
        "      print(\"B\")\n",
        "    else:\n",
        "      if grade >= 70:\n",
        "        print (\"C\")\n",
        "      else:\n",
        "        if grade >= 60:\n",
        "          print(\"D\")\n",
        "        else:\n",
        "          if grade < 60:\n",
        "            print(\"F\")"
      ],
      "metadata": {
        "colab": {
          "base_uri": "https://localhost:8080/"
        },
        "id": "6erALXJm6L7q",
        "outputId": "d54c95cd-0789-4788-bde0-ade6c4038c28"
      },
      "execution_count": 86,
      "outputs": [
        {
          "output_type": "stream",
          "name": "stdout",
          "text": [
            "Kindly enter your grade: 87\n",
            "B\n"
          ]
        }
      ]
    }
  ]
}