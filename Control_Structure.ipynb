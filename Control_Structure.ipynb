{
  "nbformat": 4,
  "nbformat_minor": 0,
  "metadata": {
    "colab": {
      "name": "Control Structure.ipynb",
      "provenance": [],
      "authorship_tag": "ABX9TyPELSGHjcVFfMnBpzh/QVRW",
      "include_colab_link": true
    },
    "kernelspec": {
      "name": "python3",
      "display_name": "Python 3"
    },
    "language_info": {
      "name": "python"
    }
  },
  "cells": [
    {
      "cell_type": "markdown",
      "metadata": {
        "id": "view-in-github",
        "colab_type": "text"
      },
      "source": [
        "<a href=\"https://colab.research.google.com/github/AngelRupido/CPEN-21A-CPE-1-1/blob/main/Control_Structure.ipynb\" target=\"_parent\"><img src=\"https://colab.research.google.com/assets/colab-badge.svg\" alt=\"Open In Colab\"/></a>"
      ]
    },
    {
      "cell_type": "markdown",
      "metadata": {
        "id": "qiKxHlhDm7pY"
      },
      "source": [
        "##If Statement"
      ]
    },
    {
      "cell_type": "code",
      "metadata": {
        "colab": {
          "base_uri": "https://localhost:8080/"
        },
        "id": "5FXDm1nlnMRU",
        "outputId": "eb2d1536-0479-4ce5-cb72-1cbab67d87ef"
      },
      "source": [
        "a = 12\n",
        "b = 100\n",
        "\n",
        "if b>a:\n",
        "  print(\"b is greater than a\")"
      ],
      "execution_count": 2,
      "outputs": [
        {
          "output_type": "stream",
          "name": "stdout",
          "text": [
            "b is greater than a\n"
          ]
        }
      ]
    },
    {
      "cell_type": "markdown",
      "metadata": {
        "id": "CHlvIYvfozOY"
      },
      "source": [
        "##Elif Condition"
      ]
    },
    {
      "cell_type": "code",
      "metadata": {
        "colab": {
          "base_uri": "https://localhost:8080/"
        },
        "id": "6eP2sca9n61C",
        "outputId": "6f9935ed-3740-4a60-80e0-b9f01261b44e"
      },
      "source": [
        "a = 12\n",
        "b = 12\n",
        "\n",
        "if b>a:\n",
        "  print(\"b is greater than a\")\n",
        "elif a==b:\n",
        "  print(\"a is equal to b\")  "
      ],
      "execution_count": 4,
      "outputs": [
        {
          "output_type": "stream",
          "name": "stdout",
          "text": [
            "a is equal to b\n"
          ]
        }
      ]
    },
    {
      "cell_type": "markdown",
      "metadata": {
        "id": "-CMBWfUTpSZ3"
      },
      "source": [
        "##Else Statement"
      ]
    },
    {
      "cell_type": "code",
      "metadata": {
        "colab": {
          "base_uri": "https://localhost:8080/"
        },
        "id": "oILGwRW5pYiv",
        "outputId": "099ddd64-d757-4b51-c3b2-2129831022ad"
      },
      "source": [
        "a = 200\n",
        "b = 33\n",
        "\n",
        "if b>a:\n",
        "  print(\"b is greater than a\")\n",
        "elif a==b:\n",
        "  print(\"a is equal to b\") \n",
        "else:\n",
        "  print(\"a is less than b\")  "
      ],
      "execution_count": 6,
      "outputs": [
        {
          "output_type": "stream",
          "name": "stdout",
          "text": [
            "a is less than b\n"
          ]
        }
      ]
    },
    {
      "cell_type": "markdown",
      "metadata": {
        "id": "UCkUtf67qUWY"
      },
      "source": [
        "##Short Hand If Statement"
      ]
    },
    {
      "cell_type": "code",
      "metadata": {
        "colab": {
          "base_uri": "https://localhost:8080/"
        },
        "id": "2LcEcs33q5RT",
        "outputId": "18dfd663-eef9-42ff-8f29-63a368bb0036"
      },
      "source": [
        "if a>b: print(\"a is greater than b\")    "
      ],
      "execution_count": 7,
      "outputs": [
        {
          "output_type": "stream",
          "name": "stdout",
          "text": [
            "a is greater than b\n"
          ]
        }
      ]
    },
    {
      "cell_type": "markdown",
      "metadata": {
        "id": "fdJUjA3hrVXf"
      },
      "source": [
        "##Short Hand If... else Statement"
      ]
    },
    {
      "cell_type": "code",
      "metadata": {
        "colab": {
          "base_uri": "https://localhost:8080/"
        },
        "id": "CumZuKaFrIto",
        "outputId": "d3982ff6-0821-4b96-bef7-b78ca10f712d"
      },
      "source": [
        "print(\"a is greater than b\") if a>b else print(\"b is greater than a\")"
      ],
      "execution_count": 10,
      "outputs": [
        {
          "output_type": "stream",
          "name": "stdout",
          "text": [
            "a is greater than b\n"
          ]
        }
      ]
    },
    {
      "cell_type": "markdown",
      "metadata": {
        "id": "nSWKlzZarxiD"
      },
      "source": [
        "And Conditions"
      ]
    },
    {
      "cell_type": "code",
      "metadata": {
        "colab": {
          "base_uri": "https://localhost:8080/"
        },
        "id": "aRfRl4pkr3aR",
        "outputId": "53d1024c-96c4-4f8e-a023-fd4a4bbbf08f"
      },
      "source": [
        "a = 15\n",
        "b = 35\n",
        " \n",
        "if b>a and a<b:\n",
        "  print(\"Both conditions are True\")\n",
        "elif b<a and a>b:\n",
        "  print(\"a is larger than b\")\n",
        "else:\n",
        "  print(\"none of the above\")"
      ],
      "execution_count": 14,
      "outputs": [
        {
          "output_type": "stream",
          "name": "stdout",
          "text": [
            "Both conditions are True\n"
          ]
        }
      ]
    },
    {
      "cell_type": "markdown",
      "metadata": {
        "id": "sFfp5J8SsrO1"
      },
      "source": [
        "Or Conditions\n"
      ]
    },
    {
      "cell_type": "code",
      "metadata": {
        "colab": {
          "base_uri": "https://localhost:8080/"
        },
        "id": "npujSd14siXF",
        "outputId": "cf11d3d3-ae40-4914-e3b8-b3393a44c16a"
      },
      "source": [
        "a = 15\n",
        "b = 35\n",
        " \n",
        "if b>a or a==b:\n",
        "  print(\"True\")\n",
        "elif b==b or a>b:\n",
        "  print(\"Absolutely True\")\n",
        "else:\n",
        "  print(\"Nothing to compare\")"
      ],
      "execution_count": 16,
      "outputs": [
        {
          "output_type": "stream",
          "name": "stdout",
          "text": [
            "True\n"
          ]
        }
      ]
    },
    {
      "cell_type": "code",
      "metadata": {
        "colab": {
          "base_uri": "https://localhost:8080/"
        },
        "id": "c8FwjKokwRVE",
        "outputId": "83034f1f-24f1-4a0e-a4f5-010e669d7748"
      },
      "source": [
        "a = 35\n",
        "b = 20\n",
        " \n",
        "if b>a or a==b:\n",
        "  print(\"True\")\n",
        "else:\n",
        "  print(\"False\")"
      ],
      "execution_count": 17,
      "outputs": [
        {
          "output_type": "stream",
          "name": "stdout",
          "text": [
            "False\n"
          ]
        }
      ]
    },
    {
      "cell_type": "markdown",
      "metadata": {
        "id": "TjhitC1cwgGf"
      },
      "source": [
        "##Nested If"
      ]
    },
    {
      "cell_type": "code",
      "metadata": {
        "colab": {
          "base_uri": "https://localhost:8080/"
        },
        "id": "eJaeuZqSwjIQ",
        "outputId": "bb27ece6-e320-4044-c1c2-073fbe8b4a3b"
      },
      "source": [
        "x = 41\n",
        "\n",
        "if x>10:\n",
        "  print(\"Above 10,\")\n",
        "if x>20:\n",
        "  print(\"and also above 20!\")\n",
        "  if x>30:\n",
        "    print(\"Above 30\")\n",
        "  else:\n",
        "     print(\"Not above 30\") \n",
        "else:\n",
        "  print(\"but not above 20\")  "
      ],
      "execution_count": 21,
      "outputs": [
        {
          "output_type": "stream",
          "name": "stdout",
          "text": [
            "Above 10,\n",
            "and also above 20!\n",
            "Above 30\n"
          ]
        }
      ]
    },
    {
      "cell_type": "markdown",
      "metadata": {
        "id": "omga80j6x5jt"
      },
      "source": [
        "##APPLICATION OF IF... ELSE STATEMENT"
      ]
    },
    {
      "cell_type": "code",
      "metadata": {
        "colab": {
          "base_uri": "https://localhost:8080/"
        },
        "id": "TE7G7KpGx-Aa",
        "outputId": "76760c8b-88d8-48d3-e44d-3aab8170a746"
      },
      "source": [
        "#Example 1\n",
        "\n",
        "age = 18\n",
        "\n",
        "if age>=18:\n",
        "  print(\"You are qualified to vote!\")\n",
        "else:\n",
        "  print(\"You are not qualitfied to vote!\")  "
      ],
      "execution_count": 22,
      "outputs": [
        {
          "output_type": "stream",
          "name": "stdout",
          "text": [
            "You are qualified to vote!\n"
          ]
        }
      ]
    },
    {
      "cell_type": "code",
      "metadata": {
        "colab": {
          "base_uri": "https://localhost:8080/"
        },
        "id": "RlDPHDZYy3gr",
        "outputId": "5ab8e43b-4458-4603-c259-94cc75b052c6"
      },
      "source": [
        "age = int(input(\"Enter your age: \"))\n",
        "\n",
        "if age>=18:\n",
        "  print(\"You are qualified to vote!\")\n",
        "else:\n",
        "  print(\"You are not qualitfied to vote!\") "
      ],
      "execution_count": 27,
      "outputs": [
        {
          "output_type": "stream",
          "name": "stdout",
          "text": [
            "Enter your age: 18\n",
            "You are qualified to vote!\n"
          ]
        }
      ]
    },
    {
      "cell_type": "code",
      "metadata": {
        "colab": {
          "base_uri": "https://localhost:8080/"
        },
        "id": "Oid1PPNtzTJ-",
        "outputId": "6828b14c-59ba-41e5-f16a-19b9a78af48b"
      },
      "source": [
        "#EXAMPLE 2: WRITE THE PROGRAM THAT DETERMINES IF THE INPUT AGE... TO CHECK WHETHER 0, NEGATIVE OR POSITIVE NUMBER\n",
        "\n",
        "number = int(input(\"Enter then number:\"))\n",
        "\n",
        "if number == 0:\n",
        "  print(\"Zero\")\n",
        "elif number > 0:\n",
        "  print(\"Positive\")  \n",
        "else:\n",
        "  print(\"Negative\")  "
      ],
      "execution_count": 29,
      "outputs": [
        {
          "output_type": "stream",
          "name": "stdout",
          "text": [
            "Enter then number:2\n",
            "Positive\n"
          ]
        }
      ]
    },
    {
      "cell_type": "code",
      "metadata": {
        "colab": {
          "base_uri": "https://localhost:8080/"
        },
        "id": "R8UzsX5A0Rbi",
        "outputId": "c63a5ef3-04ef-409c-a35f-8367cda84822"
      },
      "source": [
        "#EXAMPLE 3: TO DETERMINE IF THE GRADES ARE PASSED, REMEDIAL, OR FAILED \n",
        "\n",
        "grade = int(input(\"Enter your grades: \"))\n",
        "\n",
        "if grade >= 75:\n",
        "  print(\"Passed\")\n",
        "elif grade == 74:\n",
        "  print(\"Remedial\")\n",
        "else:\n",
        "  print(\"Failed\")"
      ],
      "execution_count": 39,
      "outputs": [
        {
          "output_type": "stream",
          "name": "stdout",
          "text": [
            "Enter your grades: 90\n",
            "Passed\n"
          ]
        }
      ]
    }
  ]
}