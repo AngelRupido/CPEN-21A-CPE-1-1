{
  "nbformat": 4,
  "nbformat_minor": 0,
  "metadata": {
    "colab": {
      "name": "Midterm Exam.ipynb",
      "provenance": [],
      "authorship_tag": "ABX9TyPWJOuMe7ak6z9DTTQfpJsQ",
      "include_colab_link": true
    },
    "kernelspec": {
      "name": "python3",
      "display_name": "Python 3"
    },
    "language_info": {
      "name": "python"
    }
  },
  "cells": [
    {
      "cell_type": "markdown",
      "metadata": {
        "id": "view-in-github",
        "colab_type": "text"
      },
      "source": [
        "<a href=\"https://colab.research.google.com/github/AngelRupido/CPEN-21A-CPE-1-1/blob/main/Midterm_Exam.ipynb\" target=\"_parent\"><img src=\"https://colab.research.google.com/assets/colab-badge.svg\" alt=\"Open In Colab\"/></a>"
      ]
    },
    {
      "cell_type": "markdown",
      "metadata": {
        "id": "p94FkPQshcTp"
      },
      "source": [
        "PROBLEM STATEMENT 1."
      ]
    },
    {
      "cell_type": "code",
      "metadata": {
        "colab": {
          "base_uri": "https://localhost:8080/"
        },
        "id": "d1lfoDwyhmUg",
        "outputId": "e92fd7e1-b93f-42a0-9551-c4f9f2d459f5"
      },
      "source": [
        "def personal_details():\n",
        "    Full_name = \"Baby Angel E. Rupido\"\n",
        "    student_number = \"202103531\"\n",
        "    age = int(18)\n",
        "    birthday = \"January 07, 2021\"\n",
        "    address = \"Banaba Cerca Indang, Cavite\"\n",
        "    course = \"BS Computer Engineering\"\n",
        "    Last_sem_GWA = int(94)\n",
        "    print(\"Full_name: {}\\nStudent_number: {}\\nAge: {}\\nBirthday: {}\\nAddress: {}\\nCourse: {}\\nLast_sem_GWA: {}\".format(Full_name,student_number, age, birthday, address, course, Last_sem_GWA))\n",
        "\n",
        "personal_details()"
      ],
      "execution_count": 22,
      "outputs": [
        {
          "output_type": "stream",
          "name": "stdout",
          "text": [
            "Full_name: Baby Angel E. Rupido\n",
            "Student_number: 202103531\n",
            "Age: 18\n",
            "Birthday: January 07, 2021\n",
            "Address: Banaba Cerca Indang, Cavite\n",
            "Course: BS Computer Engineering\n",
            "Last_sem_GWA: 94\n"
          ]
        }
      ]
    },
    {
      "cell_type": "markdown",
      "metadata": {
        "id": "DpIkNjlyj7EP"
      },
      "source": [
        "PROBLEM STATEMENT 2."
      ]
    },
    {
      "cell_type": "code",
      "metadata": {
        "colab": {
          "base_uri": "https://localhost:8080/"
        },
        "id": "houYGxsjkjfa",
        "outputId": "9a381262-dcaa-471a-abe2-f3bbf0b2970c"
      },
      "source": [
        "n = int(4)\n",
        "answ = \"y\"\n",
        "\n",
        "(2<n) and (n<6)"
      ],
      "execution_count": 63,
      "outputs": [
        {
          "output_type": "execute_result",
          "data": {
            "text/plain": [
              "True"
            ]
          },
          "metadata": {},
          "execution_count": 63
        }
      ]
    },
    {
      "cell_type": "code",
      "metadata": {
        "colab": {
          "base_uri": "https://localhost:8080/"
        },
        "id": "2-vT3rZtruEB",
        "outputId": "9975e0fc-1ce6-4bf8-f9d0-d65670d5f15f"
      },
      "source": [
        "(2<n) or (n==6)"
      ],
      "execution_count": 64,
      "outputs": [
        {
          "output_type": "execute_result",
          "data": {
            "text/plain": [
              "True"
            ]
          },
          "metadata": {},
          "execution_count": 64
        }
      ]
    },
    {
      "cell_type": "code",
      "metadata": {
        "colab": {
          "base_uri": "https://localhost:8080/"
        },
        "id": "bG5dkYZSryfz",
        "outputId": "350b3909-36dc-4328-bc84-173fe88c1ab8"
      },
      "source": [
        "not(2<n) or (n==6)"
      ],
      "execution_count": 65,
      "outputs": [
        {
          "output_type": "execute_result",
          "data": {
            "text/plain": [
              "False"
            ]
          },
          "metadata": {},
          "execution_count": 65
        }
      ]
    },
    {
      "cell_type": "code",
      "metadata": {
        "colab": {
          "base_uri": "https://localhost:8080/"
        },
        "id": "BvGaGohfr1fz",
        "outputId": "1301cdcd-fd86-4414-e441-d2a6f38d2e1e"
      },
      "source": [
        "not(n<6)"
      ],
      "execution_count": 66,
      "outputs": [
        {
          "output_type": "execute_result",
          "data": {
            "text/plain": [
              "False"
            ]
          },
          "metadata": {},
          "execution_count": 66
        }
      ]
    },
    {
      "cell_type": "code",
      "metadata": {
        "colab": {
          "base_uri": "https://localhost:8080/"
        },
        "id": "TyHCYn3ar2SI",
        "outputId": "9dacea5b-120b-48d1-86b7-31fd7ece700b"
      },
      "source": [
        "(answ == \"Y\") or (answ == \"y\")"
      ],
      "execution_count": 67,
      "outputs": [
        {
          "output_type": "execute_result",
          "data": {
            "text/plain": [
              "True"
            ]
          },
          "metadata": {},
          "execution_count": 67
        }
      ]
    },
    {
      "cell_type": "code",
      "metadata": {
        "colab": {
          "base_uri": "https://localhost:8080/"
        },
        "id": "09XMRw3Ir2JL",
        "outputId": "b3fc4a8e-3ea0-4acf-a6c6-d42af1c9b450"
      },
      "source": [
        "(answ ==\"Y\") and (answ ==\"Y\")"
      ],
      "execution_count": 68,
      "outputs": [
        {
          "output_type": "execute_result",
          "data": {
            "text/plain": [
              "False"
            ]
          },
          "metadata": {},
          "execution_count": 68
        }
      ]
    },
    {
      "cell_type": "code",
      "metadata": {
        "colab": {
          "base_uri": "https://localhost:8080/"
        },
        "id": "3ZyjeFNTr15J",
        "outputId": "d935aa24-c1e5-4c5a-aa86-6e31b2743b42"
      },
      "source": [
        "not(answ==\"Y\")"
      ],
      "execution_count": 69,
      "outputs": [
        {
          "output_type": "execute_result",
          "data": {
            "text/plain": [
              "True"
            ]
          },
          "metadata": {},
          "execution_count": 69
        }
      ]
    },
    {
      "cell_type": "code",
      "metadata": {
        "colab": {
          "base_uri": "https://localhost:8080/"
        },
        "id": "uyMa9kAJr7vl",
        "outputId": "b3f7330f-d538-4bbc-9658-91f6ee72a149"
      },
      "source": [
        "((2<n)and(n==5+1)) or (answ==\"No\")"
      ],
      "execution_count": 70,
      "outputs": [
        {
          "output_type": "execute_result",
          "data": {
            "text/plain": [
              "False"
            ]
          },
          "metadata": {},
          "execution_count": 70
        }
      ]
    },
    {
      "cell_type": "code",
      "metadata": {
        "colab": {
          "base_uri": "https://localhost:8080/"
        },
        "id": "vd8wxAeGr7ny",
        "outputId": "399a11f7-89f6-48a8-e328-6b852f60fa57"
      },
      "source": [
        "((n==2) and (n==7)) or (answ==\"Y\")"
      ],
      "execution_count": 74,
      "outputs": [
        {
          "output_type": "execute_result",
          "data": {
            "text/plain": [
              "False"
            ]
          },
          "metadata": {},
          "execution_count": 74
        }
      ]
    },
    {
      "cell_type": "code",
      "metadata": {
        "colab": {
          "base_uri": "https://localhost:8080/"
        },
        "id": "x0s66WZ3r7eU",
        "outputId": "b777d62b-56b7-46df-ae71-7006b8e6f9ab"
      },
      "source": [
        "((n==2) and (n==7)) or (answ==\"Y\")"
      ],
      "execution_count": 78,
      "outputs": [
        {
          "output_type": "execute_result",
          "data": {
            "text/plain": [
              "False"
            ]
          },
          "metadata": {},
          "execution_count": 78
        }
      ]
    },
    {
      "cell_type": "markdown",
      "metadata": {
        "id": "xsbgTemdlOGL"
      },
      "source": [
        "PROBLEM STATEMENT 3."
      ]
    },
    {
      "cell_type": "code",
      "metadata": {
        "colab": {
          "base_uri": "https://localhost:8080/"
        },
        "id": "XnVQ5cQ4lUQ9",
        "outputId": "b8b4a852-4a00-45b0-e094-ee433160d76e"
      },
      "source": [
        "x = 2 \n",
        "y = -3 \n",
        "w = 7 \n",
        "z = -10\n",
        "\n",
        "print(x/y)\n",
        "print(w/y/x)\n",
        "print(z/y%x)\n",
        "print(x%-y*w)\n",
        "print(x%y)\n",
        "print(z%w-y/x*5+5)\n",
        "print(9-x%(2+y))\n",
        "print(z//w)\n",
        "print((2+y)**2)\n",
        "print(w/x*2)"
      ],
      "execution_count": 80,
      "outputs": [
        {
          "output_type": "stream",
          "name": "stdout",
          "text": [
            "-0.6666666666666666\n",
            "-1.1666666666666667\n",
            "1.3333333333333335\n",
            "14\n",
            "-1\n",
            "16.5\n",
            "9\n",
            "-2\n",
            "1\n",
            "7.0\n"
          ]
        }
      ]
    }
  ]
}